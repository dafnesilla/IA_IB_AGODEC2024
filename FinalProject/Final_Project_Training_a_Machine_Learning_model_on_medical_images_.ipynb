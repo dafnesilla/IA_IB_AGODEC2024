{
  "nbformat": 4,
  "nbformat_minor": 0,
  "metadata": {
    "colab": {
      "provenance": [],
      "authorship_tag": "ABX9TyNDX0GvOgZmXNV5aCjsEhB8",
      "include_colab_link": true
    },
    "kernelspec": {
      "name": "python3",
      "display_name": "Python 3"
    },
    "language_info": {
      "name": "python"
    }
  },
  "cells": [
    {
      "cell_type": "markdown",
      "metadata": {
        "id": "view-in-github",
        "colab_type": "text"
      },
      "source": [
        "<a href=\"https://colab.research.google.com/github/dafnesilla/IA_IB_AGODEC2024/blob/main/Final_Project_Training_a_Machine_Learning_model_on_medical_images_.ipynb\" target=\"_parent\"><img src=\"https://colab.research.google.com/assets/colab-badge.svg\" alt=\"Open In Colab\"/></a>"
      ]
    },
    {
      "cell_type": "code",
      "execution_count": 1,
      "metadata": {
        "colab": {
          "base_uri": "https://localhost:8080/",
          "height": 1000
        },
        "id": "BtkUU1uA5uHK",
        "outputId": "e3675639-72fa-40d7-c657-9ec8f77ac5d9"
      },
      "outputs": [
        {
          "output_type": "stream",
          "name": "stdout",
          "text": [
            "Downloading from https://www.kaggle.com/api/v1/datasets/download/navoneel/brain-mri-images-for-brain-tumor-detection?dataset_version_number=1...\n"
          ]
        },
        {
          "output_type": "stream",
          "name": "stderr",
          "text": [
            "100%|██████████| 15.1M/15.1M [00:00<00:00, 76.8MB/s]"
          ]
        },
        {
          "output_type": "stream",
          "name": "stdout",
          "text": [
            "Extracting files...\n"
          ]
        },
        {
          "output_type": "stream",
          "name": "stderr",
          "text": [
            "\n"
          ]
        },
        {
          "output_type": "stream",
          "name": "stdout",
          "text": [
            "Dataset downloaded to: /root/.cache/kagglehub/datasets/navoneel/brain-mri-images-for-brain-tumor-detection/versions/1\n",
            "\n",
            "Inspecting dataset structure...\n",
            "\n",
            "Directory: /root/.cache/kagglehub/datasets/navoneel/brain-mri-images-for-brain-tumor-detection/versions/1\n",
            "Subdirectories: ['brain_tumor_dataset', 'no', 'yes']\n",
            "Files: []\n",
            "\n",
            "Directory: /root/.cache/kagglehub/datasets/navoneel/brain-mri-images-for-brain-tumor-detection/versions/1/brain_tumor_dataset\n",
            "Subdirectories: ['no', 'yes']\n",
            "Files: []\n",
            "\n",
            "Directory: /root/.cache/kagglehub/datasets/navoneel/brain-mri-images-for-brain-tumor-detection/versions/1/brain_tumor_dataset/no\n",
            "Subdirectories: []\n",
            "Files: ['N11.jpg', 'no 97.jpg', '9 no.jpg', '1 no.jpeg', 'N26.JPG', '14 no.jpg', '39 no.jpg', 'N21.jpg', 'no 100.jpg', 'no 10.jpg', 'No18.jpg', '35 no.jpg', 'no 96.jpg', 'no 4.jpg', 'no 95.jpg', 'no 98.jpg', '41 no.jpg', '6 no.jpg', '47 no.jpg', 'No16.jpg', 'no 6.jpg', 'N6.jpg', 'no 91.jpeg', 'N19.JPG', 'N16.jpg', '8 no.jpg', 'No15.jpg', 'No21.jpg', 'no 89.jpg', '24 no.jpg', 'no 1.jpg', '13 no.jpg', '30 no.jpg', '15 no.jpg', 'no 5.jpeg', '37 no.jpg', '5 no.jpg', 'No17.jpg', 'No13.jpg', 'N22.JPG', 'no 7.jpeg', '23 no.jpg', 'N5.jpg', 'no.jpg', 'N3.jpg', 'No19.jpg', '25 no.jpg', '33 no.jpg', '40 no.jpg', 'no 94.jpg', '4 no.jpg', 'No14.jpg', 'N20.JPG', 'N2.JPG', '10 no.jpg', '17 no.jpg', '27 no.jpg', '21 no.jpg', 'N17.jpg', 'No22.jpg', '22 no.jpg', 'N1.JPG', 'no 2.jpg', '2 no.jpeg', 'no 3.jpg', '12 no.jpg', 'no 99.jpg', '11 no.jpg', '34 no.jpg', '48 no.jpeg', '20 no.jpg', 'no 8.jpg', '29 no.jpg', '49 no.jpg', 'No11.jpg', '7 no.jpg', '32 no.jpg', 'no 90.jpg', 'no 9.png', '46 no.jpg', '44no.jpg', '26 no.jpg', 'N15.jpg', '31 no.jpg', '19 no.jpg', 'No20.jpg', '42 no.jpg', '38 no.jpg', '43 no.jpg', 'no 923.jpg', '28 no.jpg', '18 no.jpg', 'no 92.jpg', 'No12.jpg', '50 no.jpg', '36 no.jpg', '45 no.jpg', '3 no.jpg']\n",
            "\n",
            "Directory: /root/.cache/kagglehub/datasets/navoneel/brain-mri-images-for-brain-tumor-detection/versions/1/brain_tumor_dataset/yes\n",
            "Subdirectories: []\n",
            "Files: ['Y106.jpg', 'Y159.JPG', 'Y100.JPG', 'Y31.jpg', 'Y158.JPG', 'Y105.jpg', 'Y185.jpg', 'Y116.JPG', 'Y71.JPG', 'Y107.jpg', 'Y161.JPG', 'Y81.jpg', 'Y104.jpg', 'Y39.jpg', 'Y12.jpg', 'Y54.jpg', 'Y193.JPG', 'Y245.jpg', 'Y156.JPG', 'Y103.jpg', 'Y9.jpg', 'Y113.JPG', 'Y183.jpg', 'Y17.jpg', 'Y184.JPG', 'Y16.JPG', 'Y33.jpg', 'Y168.jpg', 'Y163.JPG', 'Y111.JPG', 'Y49.JPG', 'Y169.jpg', 'Y41.jpg', 'Y146.JPG', 'Y24.jpg', 'Y153.jpg', 'Y67.JPG', 'Y98.JPG', 'Y92.png', 'Y36.JPG', 'Y249.JPG', 'Y56.jpg', 'Y194.jpg', 'Y37.jpg', 'Y181.jpg', 'Y246.JPG', 'Y66.JPG', 'Y15.jpg', 'Y73.jpg', 'Y244.JPG', 'Y186.jpg', 'Y170.JPG', 'Y6.jpg', 'Y120.JPG', 'Y47.JPG', 'Y82.jpg', 'Y180.jpg', 'Y46.jpg', 'Y59.JPG', 'Y40.JPG', 'Y35.jpg', 'Y187.jpg', 'Y19.JPG', 'Y14.jpg', 'Y10.jpg', 'Y77.jpg', 'Y30.jpg', 'Y258.JPG', 'Y1.jpg', 'Y254.jpg', 'Y247.JPG', 'Y257.jpg', 'Y165.JPG', 'Y182.JPG', 'Y242.JPG', 'Y188.jpg', 'Y164.JPG', 'Y23.JPG', 'Y92.jpg', 'Y3.jpg', 'Y115.JPG', 'Y160.JPG', 'Y96.jpg', 'Y114.JPG', 'Y253.JPG', 'Y154.jpg', 'Y252.jpg', 'Y79.jpg', 'Y8.jpg', 'Y167.JPG', 'Y251.JPG', 'Y256.JPG', 'Y4.jpg', 'Y109.JPG', 'Y85.JPG', 'Y97.JPG', 'Y22.jpg', 'Y18.JPG', 'Y148.JPG', 'Y2.jpg', 'Y20.jpg', 'Y55.jpg', 'Y95.jpg', 'Y166.JPG', 'Y32.jpg', 'Y65.JPG', 'Y90.jpg', 'Y28.jpg', 'Y58.JPG', 'Y27.jpg', 'Y192.JPG', 'Y44.JPG', 'Y11.jpg', 'Y112.JPG', 'Y108.jpg', 'Y62.jpg', 'Y50.JPG', 'Y70.jpg', 'Y60.jpg', 'Y51.jpg', 'Y86.JPG', 'Y76.jpg', 'Y75.JPG', 'Y243.JPG', 'Y42.jpg', 'Y21.jpg', 'Y34.jpg', 'Y78.jpg', 'Y89.JPG', 'Y25.jpg', 'Y52.jpg', 'Y162.jpg', 'Y101.jpg', 'Y29.jpg', 'Y102.jpg', 'Y99.JPG', 'Y250.jpg', 'Y259.JPG', 'Y26.jpg', 'Y74.jpg', 'Y53.jpg', 'Y255.JPG', 'Y7.jpg', 'Y157.JPG', 'Y69.jpg', 'Y91.jpg', 'Y155.JPG', 'Y13.jpg', 'Y117.JPG', 'Y38.jpg', 'Y147.JPG', 'Y61.jpg', 'Y45.JPG', 'Y248.JPG', 'Y195.JPG']\n",
            "\n",
            "Directory: /root/.cache/kagglehub/datasets/navoneel/brain-mri-images-for-brain-tumor-detection/versions/1/no\n",
            "Subdirectories: []\n",
            "Files: ['N11.jpg', 'no 97.jpg', '9 no.jpg', '1 no.jpeg', 'N26.JPG', '14 no.jpg', '39 no.jpg', 'N21.jpg', 'no 100.jpg', 'no 10.jpg', 'No18.jpg', '35 no.jpg', 'no 96.jpg', 'no 4.jpg', 'no 95.jpg', 'no 98.jpg', '41 no.jpg', '6 no.jpg', '47 no.jpg', 'No16.jpg', 'no 6.jpg', 'N6.jpg', 'no 91.jpeg', 'N19.JPG', 'N16.jpg', '8 no.jpg', 'No15.jpg', 'No21.jpg', 'no 89.jpg', '24 no.jpg', 'no 1.jpg', '13 no.jpg', '30 no.jpg', '15 no.jpg', 'no 5.jpeg', '37 no.jpg', '5 no.jpg', 'No17.jpg', 'No13.jpg', 'N22.JPG', 'no 7.jpeg', '23 no.jpg', 'N5.jpg', 'no.jpg', 'N3.jpg', 'No19.jpg', '25 no.jpg', '33 no.jpg', '40 no.jpg', 'no 94.jpg', '4 no.jpg', 'No14.jpg', 'N20.JPG', 'N2.JPG', '10 no.jpg', '17 no.jpg', '27 no.jpg', '21 no.jpg', 'N17.jpg', 'No22.jpg', '22 no.jpg', 'N1.JPG', 'no 2.jpg', '2 no.jpeg', 'no 3.jpg', '12 no.jpg', 'no 99.jpg', '11 no.jpg', '34 no.jpg', '48 no.jpeg', '20 no.jpg', 'no 8.jpg', '29 no.jpg', '49 no.jpg', 'No11.jpg', '7 no.jpg', '32 no.jpg', 'no 90.jpg', 'no 9.png', '46 no.jpg', '44no.jpg', '26 no.jpg', 'N15.jpg', '31 no.jpg', '19 no.jpg', 'No20.jpg', '42 no.jpg', '38 no.jpg', '43 no.jpg', 'no 923.jpg', '28 no.jpg', '18 no.jpg', 'no 92.jpg', 'No12.jpg', '50 no.jpg', '36 no.jpg', '45 no.jpg', '3 no.jpg']\n",
            "\n",
            "Directory: /root/.cache/kagglehub/datasets/navoneel/brain-mri-images-for-brain-tumor-detection/versions/1/yes\n",
            "Subdirectories: []\n",
            "Files: ['Y106.jpg', 'Y159.JPG', 'Y100.JPG', 'Y31.jpg', 'Y158.JPG', 'Y105.jpg', 'Y185.jpg', 'Y116.JPG', 'Y71.JPG', 'Y107.jpg', 'Y161.JPG', 'Y81.jpg', 'Y104.jpg', 'Y39.jpg', 'Y12.jpg', 'Y54.jpg', 'Y193.JPG', 'Y245.jpg', 'Y156.JPG', 'Y103.jpg', 'Y9.jpg', 'Y113.JPG', 'Y183.jpg', 'Y17.jpg', 'Y184.JPG', 'Y16.JPG', 'Y33.jpg', 'Y168.jpg', 'Y163.JPG', 'Y111.JPG', 'Y49.JPG', 'Y169.jpg', 'Y41.jpg', 'Y146.JPG', 'Y24.jpg', 'Y153.jpg', 'Y67.JPG', 'Y98.JPG', 'Y92.png', 'Y36.JPG', 'Y249.JPG', 'Y56.jpg', 'Y194.jpg', 'Y37.jpg', 'Y181.jpg', 'Y246.JPG', 'Y66.JPG', 'Y15.jpg', 'Y73.jpg', 'Y244.JPG', 'Y186.jpg', 'Y170.JPG', 'Y6.jpg', 'Y120.JPG', 'Y47.JPG', 'Y82.jpg', 'Y180.jpg', 'Y46.jpg', 'Y59.JPG', 'Y40.JPG', 'Y35.jpg', 'Y187.jpg', 'Y19.JPG', 'Y14.jpg', 'Y10.jpg', 'Y77.jpg', 'Y30.jpg', 'Y258.JPG', 'Y1.jpg', 'Y254.jpg', 'Y247.JPG', 'Y257.jpg', 'Y165.JPG', 'Y182.JPG', 'Y242.JPG', 'Y188.jpg', 'Y164.JPG', 'Y23.JPG', 'Y92.jpg', 'Y3.jpg', 'Y115.JPG', 'Y160.JPG', 'Y96.jpg', 'Y114.JPG', 'Y253.JPG', 'Y154.jpg', 'Y252.jpg', 'Y79.jpg', 'Y8.jpg', 'Y167.JPG', 'Y251.JPG', 'Y256.JPG', 'Y4.jpg', 'Y109.JPG', 'Y85.JPG', 'Y97.JPG', 'Y22.jpg', 'Y18.JPG', 'Y148.JPG', 'Y2.jpg', 'Y20.jpg', 'Y55.jpg', 'Y95.jpg', 'Y166.JPG', 'Y32.jpg', 'Y65.JPG', 'Y90.jpg', 'Y28.jpg', 'Y58.JPG', 'Y27.jpg', 'Y192.JPG', 'Y44.JPG', 'Y11.jpg', 'Y112.JPG', 'Y108.jpg', 'Y62.jpg', 'Y50.JPG', 'Y70.jpg', 'Y60.jpg', 'Y51.jpg', 'Y86.JPG', 'Y76.jpg', 'Y75.JPG', 'Y243.JPG', 'Y42.jpg', 'Y21.jpg', 'Y34.jpg', 'Y78.jpg', 'Y89.JPG', 'Y25.jpg', 'Y52.jpg', 'Y162.jpg', 'Y101.jpg', 'Y29.jpg', 'Y102.jpg', 'Y99.JPG', 'Y250.jpg', 'Y259.JPG', 'Y26.jpg', 'Y74.jpg', 'Y53.jpg', 'Y255.JPG', 'Y7.jpg', 'Y157.JPG', 'Y69.jpg', 'Y91.jpg', 'Y155.JPG', 'Y13.jpg', 'Y117.JPG', 'Y38.jpg', 'Y147.JPG', 'Y61.jpg', 'Y45.JPG', 'Y248.JPG', 'Y195.JPG']\n",
            "Class Mapping: {'no': 0, 'yes': 1}\n",
            "Training Images Shape: (177, 28, 28, 1)\n",
            "Training Labels Length: 177\n",
            "Testing Images Shape: (76, 28, 28, 1)\n",
            "Testing Labels Length: 76\n"
          ]
        },
        {
          "output_type": "stream",
          "name": "stderr",
          "text": [
            "/usr/local/lib/python3.10/dist-packages/keras/src/layers/convolutional/base_conv.py:107: UserWarning: Do not pass an `input_shape`/`input_dim` argument to a layer. When using Sequential models, prefer using an `Input(shape)` object as the first layer in the model instead.\n",
            "  super().__init__(activity_regularizer=activity_regularizer, **kwargs)\n"
          ]
        },
        {
          "output_type": "stream",
          "name": "stdout",
          "text": [
            "Epoch 1/10\n",
            "\u001b[1m6/6\u001b[0m \u001b[32m━━━━━━━━━━━━━━━━━━━━\u001b[0m\u001b[37m\u001b[0m \u001b[1m4s\u001b[0m 134ms/step - accuracy: 0.5024 - loss: 0.6822 - val_accuracy: 0.6579 - val_loss: 0.6180\n",
            "Epoch 2/10\n",
            "\u001b[1m6/6\u001b[0m \u001b[32m━━━━━━━━━━━━━━━━━━━━\u001b[0m\u001b[37m\u001b[0m \u001b[1m0s\u001b[0m 62ms/step - accuracy: 0.6132 - loss: 0.6505 - val_accuracy: 0.7237 - val_loss: 0.6060\n",
            "Epoch 3/10\n",
            "\u001b[1m6/6\u001b[0m \u001b[32m━━━━━━━━━━━━━━━━━━━━\u001b[0m\u001b[37m\u001b[0m \u001b[1m0s\u001b[0m 39ms/step - accuracy: 0.6616 - loss: 0.6147 - val_accuracy: 0.7632 - val_loss: 0.5546\n",
            "Epoch 4/10\n",
            "\u001b[1m6/6\u001b[0m \u001b[32m━━━━━━━━━━━━━━━━━━━━\u001b[0m\u001b[37m\u001b[0m \u001b[1m0s\u001b[0m 38ms/step - accuracy: 0.7363 - loss: 0.5594 - val_accuracy: 0.8026 - val_loss: 0.5439\n",
            "Epoch 5/10\n",
            "\u001b[1m6/6\u001b[0m \u001b[32m━━━━━━━━━━━━━━━━━━━━\u001b[0m\u001b[37m\u001b[0m \u001b[1m0s\u001b[0m 40ms/step - accuracy: 0.7925 - loss: 0.5194 - val_accuracy: 0.7763 - val_loss: 0.4713\n",
            "Epoch 6/10\n",
            "\u001b[1m6/6\u001b[0m \u001b[32m━━━━━━━━━━━━━━━━━━━━\u001b[0m\u001b[37m\u001b[0m \u001b[1m0s\u001b[0m 38ms/step - accuracy: 0.8129 - loss: 0.4621 - val_accuracy: 0.7763 - val_loss: 0.4562\n",
            "Epoch 7/10\n",
            "\u001b[1m6/6\u001b[0m \u001b[32m━━━━━━━━━━━━━━━━━━━━\u001b[0m\u001b[37m\u001b[0m \u001b[1m0s\u001b[0m 46ms/step - accuracy: 0.8005 - loss: 0.4148 - val_accuracy: 0.7895 - val_loss: 0.4667\n",
            "Epoch 8/10\n",
            "\u001b[1m6/6\u001b[0m \u001b[32m━━━━━━━━━━━━━━━━━━━━\u001b[0m\u001b[37m\u001b[0m \u001b[1m0s\u001b[0m 38ms/step - accuracy: 0.7954 - loss: 0.4460 - val_accuracy: 0.5789 - val_loss: 0.7298\n",
            "Epoch 9/10\n",
            "\u001b[1m6/6\u001b[0m \u001b[32m━━━━━━━━━━━━━━━━━━━━\u001b[0m\u001b[37m\u001b[0m \u001b[1m0s\u001b[0m 40ms/step - accuracy: 0.7548 - loss: 0.4821 - val_accuracy: 0.8026 - val_loss: 0.4569\n",
            "Epoch 10/10\n",
            "\u001b[1m6/6\u001b[0m \u001b[32m━━━━━━━━━━━━━━━━━━━━\u001b[0m\u001b[37m\u001b[0m \u001b[1m0s\u001b[0m 36ms/step - accuracy: 0.8604 - loss: 0.3573 - val_accuracy: 0.7763 - val_loss: 0.5353\n"
          ]
        },
        {
          "output_type": "display_data",
          "data": {
            "text/plain": [
              "<Figure size 640x480 with 1 Axes>"
            ],
            "image/png": "[encoded data removed]"
          },
          "metadata": {}
        },
        {
          "output_type": "stream",
          "name": "stdout",
          "text": [
            "3/3 - 0s - 15ms/step - accuracy: 0.7763 - loss: 0.5353\n",
            "Test Accuracy: 0.78\n",
            "\u001b[1m3/3\u001b[0m \u001b[32m━━━━━━━━━━━━━━━━━━━━\u001b[0m\u001b[37m\u001b[0m \u001b[1m0s\u001b[0m 42ms/step\n",
            "The network predicts the class as 0, and the true class is: 0\n",
            "The network predicts the class as 1, and the true class is: 1\n",
            "The network predicts the class as 1, and the true class is: 1\n",
            "The network predicts the class as 0, and the true class is: 1\n",
            "The network predicts the class as 0, and the true class is: 1\n",
            "The network predicts the class as 1, and the true class is: 1\n",
            "The network predicts the class as 0, and the true class is: 0\n",
            "The network predicts the class as 1, and the true class is: 1\n",
            "The network predicts the class as 0, and the true class is: 0\n",
            "The network predicts the class as 0, and the true class is: 1\n"
          ]
        }
      ],
      "source": [
        "# ---------------------------------------------------\n",
        "# Team Information\n",
        "# Sandra Janeth Arizpe Villanueva 2016782\n",
        "# Santiago Ivan Martinez Martinez 1965156\n",
        "# Dafne Sofia Reynosa Barbosa 2011575\n",
        "# ---------------------------------------------------\n",
        "\"\"\"\n",
        "Team Details: Team 1\n",
        "Artificial Intelligence Final Project\n",
        "Project Title: Convolutional Neural Network for Image Classification\n",
        "\"\"\"\n",
        "\n",
        "# ---------------------------------------------------\n",
        "# Libraries\n",
        "# ---------------------------------------------------\n",
        "import tensorflow as tf\n",
        "from tensorflow.keras import datasets, layers, models\n",
        "import matplotlib.pyplot as plt\n",
        "import cv2\n",
        "import os\n",
        "import numpy as np\n",
        "from sklearn.model_selection import train_test_split\n",
        "import kagglehub\n",
        "\n",
        "# ---------------------------------------------------\n",
        "# Dataset Download and Inspection\n",
        "# ---------------------------------------------------\n",
        "\n",
        "# Download the dataset using KaggleHub\n",
        "path = kagglehub.dataset_download(\"navoneel/brain-mri-images-for-brain-tumor-detection\")\n",
        "print(\"Dataset downloaded to:\", path)\n",
        "\n",
        "# Inspect the dataset structure\n",
        "print(\"\\nInspecting dataset structure...\")\n",
        "for root, dirs, files in os.walk(path):\n",
        "    print(f\"\\nDirectory: {root}\")\n",
        "    print(\"Subdirectories:\", dirs)\n",
        "    print(\"Files:\", files)\n",
        "\n",
        "# Adjust dataset_path based on inspection\n",
        "dataset_path = os.path.join(path, \"brain_tumor_dataset\")  # Adjust if needed based on the printed structure\n",
        "\n",
        "# ---------------------------------------------------\n",
        "# Preprocessing: Loading Images and Labels\n",
        "# ---------------------------------------------------\n",
        "\n",
        "def load_images_and_labels(dataset_path):\n",
        "    \"\"\"\n",
        "    Load images and corresponding labels from dataset_path.\n",
        "    Assumes the dataset is organized with subfolders representing class names.\n",
        "    \"\"\"\n",
        "    images = []\n",
        "    labels = []\n",
        "    class_names = os.listdir(dataset_path)  # Folder names as class names\n",
        "    class_mapping = {name: idx for idx, name in enumerate(class_names)}  # Map class names to IDs\n",
        "    print(\"Class Mapping:\", class_mapping)\n",
        "\n",
        "    for class_name, class_id in class_mapping.items():\n",
        "        class_folder = os.path.join(dataset_path, class_name)\n",
        "        for img_file in os.listdir(class_folder):\n",
        "            img_path = os.path.join(class_folder, img_file)\n",
        "            image = cv2.imread(img_path, cv2.IMREAD_GRAYSCALE)  # Read in grayscale\n",
        "            if image is not None:\n",
        "                resized_image = cv2.resize(image, (28, 28))  # Resize to 28x28\n",
        "                images.append(resized_image)\n",
        "                labels.append(class_id)\n",
        "\n",
        "    return np.array(images), np.array(labels), class_mapping\n",
        "\n",
        "# Load images and labels\n",
        "images, labels, class_mapping = load_images_and_labels(dataset_path)\n",
        "\n",
        "# Normalize images\n",
        "images = images / 255.0\n",
        "\n",
        "# Split into training (70%) and testing (30%)\n",
        "train_images, test_images, train_labels, test_labels = train_test_split(\n",
        "    images, labels, test_size=0.3, random_state=42\n",
        ")\n",
        "\n",
        "# Reshape images to include channel dimension for CNN\n",
        "train_images = train_images.reshape((-1, 28, 28, 1))\n",
        "test_images = test_images.reshape((-1, 28, 28, 1))\n",
        "\n",
        "# Display dataset details\n",
        "print(\"Training Images Shape:\", train_images.shape)\n",
        "print(\"Training Labels Length:\", len(train_labels))\n",
        "print(\"Testing Images Shape:\", test_images.shape)\n",
        "print(\"Testing Labels Length:\", len(test_labels))\n",
        "\n",
        "# ---------------------------------------------------\n",
        "# CNN Model Definition\n",
        "# ---------------------------------------------------\n",
        "\n",
        "# Define the CNN architecture\n",
        "model = models.Sequential([\n",
        "    layers.Conv2D(32, (3, 3), activation='relu', input_shape=(28, 28, 1)),\n",
        "    layers.MaxPooling2D((2, 2)),\n",
        "    layers.Conv2D(64, (3, 3), activation='relu'),\n",
        "    layers.MaxPooling2D((2, 2)),\n",
        "    layers.Conv2D(64, (3, 3), activation='relu'),\n",
        "    layers.Flatten(),\n",
        "    layers.Dense(64, activation='relu'),\n",
        "    layers.Dense(len(class_mapping), activation='softmax')  # Output layer matches number of classes\n",
        "])\n",
        "\n",
        "# Compile the model\n",
        "model.compile(optimizer='adam',\n",
        "              loss='sparse_categorical_crossentropy',\n",
        "              metrics=['accuracy'])\n",
        "\n",
        "# ---------------------------------------------------\n",
        "# CNN Model Training\n",
        "# ---------------------------------------------------\n",
        "\n",
        "# Train the model\n",
        "history = model.fit(\n",
        "    train_images, train_labels,\n",
        "    epochs=10,\n",
        "    validation_data=(test_images, test_labels)\n",
        ")\n",
        "\n",
        "# ---------------------------------------------------\n",
        "# CNN Accuracy Results\n",
        "# ---------------------------------------------------\n",
        "\n",
        "# Plot training and validation accuracy\n",
        "plt.plot(history.history['accuracy'], label='Training Accuracy')\n",
        "plt.plot(history.history['val_accuracy'], label='Validation Accuracy')\n",
        "plt.xlabel('Epoch')\n",
        "plt.ylabel('Accuracy')\n",
        "plt.ylim([0, 1])\n",
        "plt.legend(loc='lower right')\n",
        "plt.title(\"Training vs Validation Accuracy\")\n",
        "plt.show()\n",
        "\n",
        "# Evaluate the model on test data\n",
        "test_loss, test_acc = model.evaluate(test_images, test_labels, verbose=2)\n",
        "print(f\"Test Accuracy: {test_acc:.2f}\")\n",
        "\n",
        "# ---------------------------------------------------\n",
        "# Predictions with the Trained CNN\n",
        "# ---------------------------------------------------\n",
        "\n",
        "# Perform predictions on test images\n",
        "predictions = model.predict(test_images)\n",
        "\n",
        "# Display results for 5 sample predictions\n",
        "sample_indices = [1, 50, 40, 25, 10, 22, 44, 22, 38, 29]\n",
        "for i in sample_indices:\n",
        "    predicted_label = np.argmax(predictions[i])\n",
        "    true_label = test_labels[i]\n",
        "    print(f\"The network predicts the class as {predicted_label}, and the true class is: {true_label}\")\n",
        ""
      ]
    }
  ]
}
